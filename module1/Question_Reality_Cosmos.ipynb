{
 "cells": [
  {
   "cell_type": "markdown",
   "metadata": {},
   "source": [
    "# **Question Reality**\n",
    "\n",
    "The **course Question Reality**, taught by Marcelo Gleiser, is based on his book **The Island of Knowledge and addresses some of the deepest questions in science and philosophy**, questioning the **nature of reality**, the **structure of the world**, and our **role in the universe**.\n",
    "\n",
    "**Course Structure**\n",
    "The course is divided into three main modules:\n",
    "\n",
    "* **Cosmos** – **Explores the evolution of our understanding of the universe**, from the theories of the ancient Greeks to the Big Bang and the concept of the Multiverse.\n",
    "* **Matter** – **Analyzes the concept of matter**, starting from Greek **atomistic philosophy** to **quantum mechanic**s and the search for fundamental particles at CERN.\n",
    "* **Mind** – Investigates the **nature of mathematics**, **computers and the mystery** of human consciousness."
   ]
  },
  {
   "cell_type": "markdown",
   "metadata": {},
   "source": [
    "## **What is Reality?**\n",
    "\n",
    "The question **“What is reality?”** is **complex and deeply thought-provoking**.\n",
    "\n",
    "**Definitions of Reality**\n",
    "\n",
    "- **Oxford Dictionary (2005)**: Reality is “the state of things as they actually exist, as opposed to an idealistic or theoretical idea.”\n",
    "- **Wikipedia**: Reality includes **everything that exists or has existed**, regardless of whether it is observable or comprehensible.\n",
    "\n",
    "**Contrasting Views**:\n",
    "- Reality is what we believe it to be.\n",
    "- Thoughts, dreams, and emotions are part of reality.\n",
    "- Only tangible physical objects belong to reality.\n",
    "- Science is the only tool that can fully explain reality.\n",
    "\n",
    "**Fundamental Questions**\n",
    "Is there a single, universal definition of reality?\n",
    "Does each individual have their own vision of reality?\n",
    "Can science define it absolutely?\n",
    "**Is there an “ultimate reality,”** the definitive basis of all that exists? Can we truly understand it in its entirety?\n"
   ]
  },
  {
   "cell_type": "markdown",
   "metadata": {},
   "source": [
    "## **[Can We Grasp Reality?](https://www.npr.org/sections/13.7/2016/03/09/469775481/can-we-grasp-reality)**\n",
    "\n",
    "**Can We Understand Reality?**\n",
    "According to astrophysicist Marcelo Gleiser, **reality may forever remain beyond our grasp**.\n",
    "\n",
    "**Perception and Reality**\n",
    "* **Our senses act as antennas** that **capture information from the surrounding environment** and **transmit it to the brain**, which **synthesizes it to build an idea of ​​reality**.\n",
    "* However, this perception is manipulable: drugs and chemicals can alter the way we perceive the world, leading us to believe we see hidden aspects of reality (e.g. psychedelic experiences narrated by Aldous Huxley in The Doors of Perception).\n",
    "\n",
    "**The Role of Science**\n",
    "Our **perception of reality is limited**, but **science acts as an amplifier of reality**, allowing us to see **beyond sensory limitations**.\n",
    "\n",
    "**The Limit of Knowledge**\n",
    "* **There is always something beyond our tools of investigation**: technology advances, but a part of reality remains elusive.\n",
    "* **The illusion of total knowledge**: believing that we can arrive at a definitive understanding of reality is an act of naive optimism, perhaps dictated by fear of the unknown.\n",
    "* **Scientific humility**: as Einstein argued, we must accept that our understanding of the world will always be imperfect.\n",
    "\n",
    "The true value lies not in finding a definitive answer to the question “what is reality?”, but in the **continuous search for knowledge**."
   ]
  },
  {
   "cell_type": "markdown",
   "metadata": {},
   "source": [
    "## **The Birth of Philosophy and the Search for Reality**\n",
    "Marcelo Gleiser describes how **humanity has always sought to understand and control nature**, moving **from mythological explanations to rational and scientific ones**.\n",
    "\n",
    "#### **From Myths to Reason**\n",
    "**20,000 years ago**, natural phenomena were **unpredictable and inexplicable**. In an attempt to control them, early civilizations attributed divine will to natural events.\n",
    "The first agricultural societies (Sumerians, Babylonians, Egyptians) linked power to a **cosmic order**, often **embodied by divine figures such as the Pharaohs**.\n",
    "- **Myths served as pre-scientific explanations of reality**: they linked the sensible world to a divine realm without time or space.\n",
    "\n",
    "1. **Talete di Mileto**, first natural philosopher. He proposed that **everything was made of water**, he started the **philosophy of becoming**, **nature is in constant transformation**.\n",
    "2. **Anassimandro**, proposed that the **fundamental element of the universe was not material**, but an indefinite entity called **\"the Infinite\" (Ápeiron)**. The universe, according to him, functioned as a **mechanism governed by natural laws**, anticipating the **idea of ​​a deterministic cosmos**.\n",
    "3. **Pitagora**, he saw the world in terms of **numbers and mathematical relationships**, everything in nature could be explained through **numerical patterns and proportions**. \n",
    "4. **Parmenide**, He opposed **Thales' idea of ​​continuous change**. The **true reality** was **immutable and eternal** (Being). \n",
    "\n",
    "#### **The Beginning of Science and Rational Philosophy**\n",
    "These early philosophers sought to explain reality using reasoning, rather than myths and beliefs. Their ideas would influence Plato, who would later expand on the nature of reality in his own thinking.\n"
   ]
  },
  {
   "cell_type": "markdown",
   "metadata": {},
   "source": [
    "## **Plato's Allegory of the Cave and the Nature of Reality**\n",
    "\n",
    "**Plato is a central figure in Western philosophy**, along with his teacher Socrates and his most famous student, Aristotle. In a time of crisis for Athens (400 BC), Plato sought a path to absolute truth (Truth with capital T), culminating in his famous **Allegory of the Cave**, contained in the book The Republic.\n",
    "\n",
    "### **The Allegory of the Cave**\n",
    "- **Imagine people who have been chained since birth inside a cav**e, unable to move and unable to see anything other than a wall in front of them.\n",
    "- Behind them, a **fire casts the shadows of statues and objects** held by other people **on the wall**.\n",
    "- For them, **reality is represented only by these shadows**, because **they know nothing outside of the**m.\n",
    "- **If** one of these people were **freed and taken out of the cave**, they would **discover a much larger and more complex world**, but **they would have difficulty convincing the other prisoners** that their vision of reality was illusory.\n",
    "\n",
    "### **Meaning of Metaphor**\n",
    "Plato uses this allegory to **demonstrate how the senses can deceive us**: **what we perceive** with sight, hearing and touch **is not the true reality**, but **only a reflection of it**.\n",
    "**True knowledge** does not come from the senses, but **from reason and abstract thought**.\n",
    "An example: the idea of ​​a perfect circle exists only in the mind; any circle drawn in the real world will never be perfect.\n",
    "\n",
    "### **Philosophical Influences**\n",
    "- **Parmenides** → The idea of ​​an immutable essence of reality (Being).\n",
    "- **Pythagoras** → The belief that mathematics is the key to understanding truth.\n",
    "\n",
    "### **[In antithesis to Plato's view...](https://medium.com/@mikgrimaldi7/does-reality-exist-independently-of-us-a-new-theory-in-opposition-to-plato-1811e2cd58f7)**"
   ]
  },
  {
   "cell_type": "markdown",
   "metadata": {},
   "source": [
    "## **Aristotle's View of the Cosmos**\n",
    "Plato did not dwell much on the structure of the cosmos, but his student **Aristotle** developed a detailed theory, which remained the dominant model until the 16th century.\n",
    "\n",
    "### **1. The Geocentric Model**\n",
    "- **The Earth at the Center** → Aristotle imagined the cosmos as an **onion**, with the Earth at the center and the known planets (Moon, Mercury, Venus, Sun, Mars, Jupiter, Saturn) orbiting it.\n",
    "- **The Sphere of Fixed Stars** → Beyond Saturn was the sphere of fixed stars, which looked like crystals set in a celestial dome.\n",
    "- **The Crystalline Spheres** → The planets were set in transparent spheres that revolved around the Earth, dragging them with them.\n",
    "\n",
    "### **2. Two Realities and Two Types of Gravity**\n",
    "Aristotle divided the universe into two regions:\n",
    "- **Under the Moon (terrestrial world)** → Dominated by the **four elements** (Earth, Water, Air, Fire). Here everything changed and transformed.\n",
    "- **Above the Moon (celestial world)** → Composed of a fifth element, the **ether** or **quintessence**, eternal and immutable.\n",
    "\n",
    "This division also influenced gravity:\n",
    "- **On Earth** → Things fell because their natural movement was to return to their place (e.g. stones fall, fire rises).\n",
    "- **In the sky** → Celestial bodies moved **in perfect circles**, because circular motion was considered natural and perfect.\n",
    "\n",
    "### **3. The First Unmoved Mover**\n",
    "Aristotle addressed the problem of the **first cause**:\n",
    "- Why does the cosmos move?\n",
    "- Who gave the first impulse?\n",
    "\n",
    "His answer was the **Primum Mobile**, an external sphere that transmitted motion to the entire universe. The **unmoved mover**, a divine entity, gave rise to this motion without moving itself.\n",
    "\n",
    "### **4. The Decline of the Aristotelian Model**\n",
    "Aristotle's model remained dominant for centuries until, in the 16th century, **Copernicus** introduced the **heliocentric** model, placing the Sun at the center of the universe and challenging the Aristotelian system."
   ]
  },
  {
   "cell_type": "markdown",
   "metadata": {},
   "source": [
    "### **The Copernican Revolution and the Decline of the Aristotelian Model**\n",
    "\n",
    "In **1543**, **Nicolas Copernicus** published *On the Revolutions of the Celestial Spheres*, introducing a revolutionary idea: **the Sun, and not the Earth, is the center of the cosmos**.\n",
    "\n",
    "### **1. Copernicus' Heliocentric Model**\n",
    "- Copernicus, influenced by **Renaissance symmetry and proportion**, reorganized the cosmos based on the revolution times of the planets around the Sun:\n",
    "- **Mercury** → 3 months\n",
    "- **Venus** → 8 months\n",
    "- **Earth** → 1 year\n",
    "- **Mars** → 2 years\n",
    "- **Jupiter** → 12 years\n",
    "- **Saturn** → 29 years\n",
    "\n",
    "- This new vision **directly contradicted Aristotle**. If the Earth was no longer the center, then:\n",
    "- **Why did objects fall to the ground?**\n",
    "- **Did humanity still have a special role in the universe?**\n",
    "- **Were there other beings on Mars or Saturn?**\n",
    "\n",
    "The problem was that **Copernicus had no new physics to support his theory**. To understand gravity, we had to wait for Galileo, Kepler and Newton.\n",
    "\n",
    "### **2. Tycho Brahe and the First Denials of Aristotle**\n",
    "- **Tycho Brahe**, a Danish astronomer with immense financial resources, built **instruments of unprecedented precision** to observe the sky with the naked eye (telescopes did not exist until 1608).\n",
    "- **1572 - Brahe's Supernova** → A sudden “new star” appeared in the sky.\n",
    "- Aristotle argued that the heavens could not change, but Brahe proved that this star was located **beyond the Moon**, disproving Aristotle's separation between the terrestrial and celestial worlds.\n",
    "- **1577 - The Great Comet** → Brahe observed a comet that **passed through the sphere of Mars**, proving that **crystalline spheres did not exist**.\n",
    "\n",
    "### **3. A Crisis in Cosmology**\n",
    "After Brahe's discoveries, the Aristotelian model was revealed to be **deeply flawed**:\n",
    "- The heavens were not **immutable**.\n",
    "- There were no **crystalline spheres** carrying the planets.\n",
    "\n",
    "The universe was no longer clear, and **humanity found itself in a period of great uncertainty**.\n",
    "\n",
    "### **4. The Beginning of the Scientific Revolution**\n",
    "In **1609**, **Galileo Galilei** pointed the first telescope at the sky and saw a cosmos **completely different from the Aristotelian one**. This marked the real turning point in our understanding of the universe.\n",
    "\n",
    "**Conclusion**: The discoveries of Copernicus, Brahe and Galileo showed how our view of the cosmos **changes as our observational instruments improve**. This transformation is one of the central themes of the course: **reality is always more complex than we initially perceive.**"
   ]
  },
  {
   "cell_type": "markdown",
   "metadata": {},
   "source": [
    "## **Conversation with David Kaiser**\n",
    "\n",
    "The interview with **David Kaiser**, professor of Physics and History of Science at MIT, explores the concept of reality and the limits of its understanding. Kaiser recalls a famous quote by **Einstein** – *\"The Lord is subtle, but not malicious.\"* – to emphasize how nature follows precise, often hidden patterns that we can investigate through science. Although these patterns are not immediately obvious, the possibility of discovering them is what makes the exploration of reality so fascinating. However, the question arises: is there an end point in knowledge? Kaiser suggests not. The idea of ​​an **ultimate nature of reality** is a limitation imposed by our mind, not necessarily by reality itself. The complexity of the universe could be **infinite**, and the real limit is our ability to understand it. As in relativity, standing still in the search would mean letting time and reality move on without us. Knowledge and curiosity are the **engine that allows us to truly experience the world**, since only by exploring can we take reality from its overlapping of possibilities to a concrete form of understanding."
   ]
  }
 ],
 "metadata": {
  "kernelspec": {
   "display_name": "my_env",
   "language": "python",
   "name": "python3"
  },
  "language_info": {
   "name": "python",
   "version": "3.12.8"
  }
 },
 "nbformat": 4,
 "nbformat_minor": 2
}
